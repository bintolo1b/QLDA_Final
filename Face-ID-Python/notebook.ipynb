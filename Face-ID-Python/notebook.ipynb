{
 "cells": [
  {
   "cell_type": "code",
   "execution_count": 1,
   "metadata": {},
   "outputs": [],
   "source": [
    "import json\n",
    "from face_id_model import FaceIDModel\n",
    "import numpy as np\n",
    "from utils.model_utils import numpy_array_to_list\n",
    "\n",
    "my_model = FaceIDModel(\"model/detection_model.pt\", \"identity\")\n",
    "\n",
    "keys_to_keep = ['trung', 'tai', 'minh_hoang', 'trung_phong']\n",
    "filtered_dict = {key: my_model.identity_embedding[key] for key in keys_to_keep if key in my_model.identity_embedding}\n",
    "\n",
    "identity_embedding_for_json = numpy_array_to_list(filtered_dict)\n",
    "\n",
    "with open('identity_embeddings.json', 'w') as json_file:\n",
    "    json.dump(identity_embedding_for_json, json_file)\n"
   ]
  },
  {
   "cell_type": "code",
   "execution_count": null,
   "metadata": {},
   "outputs": [],
   "source": []
  }
 ],
 "metadata": {
  "kernelspec": {
   "display_name": "Python 3",
   "language": "python",
   "name": "python3"
  },
  "language_info": {
   "codemirror_mode": {
    "name": "ipython",
    "version": 3
   },
   "file_extension": ".py",
   "mimetype": "text/x-python",
   "name": "python",
   "nbconvert_exporter": "python",
   "pygments_lexer": "ipython3",
   "version": "3.12.3"
  }
 },
 "nbformat": 4,
 "nbformat_minor": 2
}
